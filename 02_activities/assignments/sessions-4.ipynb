{
 "cells": [
  {
   "cell_type": "code",
   "execution_count": 3,
   "metadata": {},
   "outputs": [],
   "source": [
    "import numpy as np\n",
    "import matplotlib.pyplot as plt\n",
    "import pandas as pd\n",
    "\n",
    "import scipy\n",
    "from PIL import Image\n",
    "import requests\n",
    "from io import BytesIO\n"
   ]
  },
  {
   "cell_type": "code",
   "execution_count": 4,
   "metadata": {},
   "outputs": [],
   "source": [
    "x = np.array(['Luffy','Zoro','Nami','Usopp', 'Sanji'])\n",
    "y2 = np.array([170, 100, 90, 120, 50])\n",
    "\n",
    "response = requests.get(\"https://upload.wikimedia.org/wikipedia/en/c/cb/Monkey_D_Luffy.png\")\n",
    "image_file = BytesIO(response.content)\n",
    "image = Image.open(image_file)"
   ]
  },
  {
   "cell_type": "code",
   "execution_count": 8,
   "metadata": {},
   "outputs": [
    {
     "data": {
      "text/plain": [
       "(-0.5, 219.5, 425.5, -0.5)"
      ]
     },
     "execution_count": 8,
     "metadata": {},
     "output_type": "execute_result"
    },
    {
     "data": {
      "image/png": "[encoded data removed]",
      "text/plain": [
       "<Figure size 700x300 with 2 Axes>"
      ]
     },
     "metadata": {},
     "output_type": "display_data"
    }
   ],
   "source": [
    "fig, ax = plt.subplots(figsize=(7,3))\n",
    "ax.plot(x, y2, color = \"red\")\n",
    "\n",
    "ax_image = fig.add_axes([0.1, 0.11, 0.15, 0.25])\n",
    "\n",
    "ax_image.imshow(image)\n",
    "ax_image.axis('off')\n"
   ]
  },
  {
   "cell_type": "code",
   "execution_count": null,
   "metadata": {},
   "outputs": [],
   "source": [
    "## let's make a real fancy plot for fun\n",
    "\n",
    "##collect our images for each datapoint\n",
    "response = requests.get('https://upload.wikimedia.org/wikipedia/en/c/cb/Monkey_D_Luffy.png')\n",
    "image_file = BytesIO(response.content)\n",
    "luffyimg = Image.open(image_file)\n",
    "\n",
    "response = requests.get('https://static.wikia.nocookie.net/p__/images/6/6e/Roronoa_Zoro_Post_Timeskip.png/revision/latest?cb=20190529044836&path-prefix=protagonist')\n",
    "image_file = BytesIO(response.content)\n",
    "zoroimg = Image.open(image_file)\n",
    "\n",
    "response = requests.get('https://static.wikia.nocookie.net/p__/images/f/f0/Nami_Waifuuu.png/revision/latest?cb=20190113023031&path-prefix=protagonist')\n",
    "image_file = BytesIO(response.content)\n",
    "namiimg = Image.open(image_file)\n",
    "\n",
    "response = requests.get('https://static.wikia.nocookie.net/p__/images/5/53/Usopp.png/revision/latest?cb=20190529045324&path-prefix=protagonist')\n",
    "image_file = BytesIO(response.content)\n",
    "usoppimg = Image.open(image_file)\n",
    "\n",
    "response = requests.get('https://static.wikia.nocookie.net/p__/images/b/b0/Sanji_Vector.png/revision/latest?cb=20190426102221&path-prefix=protagonist')\n",
    "image_file = BytesIO(response.content)\n",
    "sanjiimg = Image.open(image_file)\n",
    "\n",
    "##remake our plot \n",
    "fig, ax = plt.subplots(figsize=(7, 3),\n",
    "                      layout = \"constrained\")\n",
    "ax.plot(x, y2,\n",
    "       color = \"red\",\n",
    "       alpha = 0.5,\n",
    "       linestyle = '--')\n",
    "\n",
    "##add axes containers for each image\n",
    "ax_luf = fig.add_axes([0.05, ##x coordinate (ON FIGURE, NOT AXES)\n",
    "                         0.55, ##y coordinate (ON FIGURE, NOT AXES)\n",
    "                         0.15, ##image width\n",
    "                         0.35] ##image height\n",
    "                       )\n",
    "\n",
    "ax_zoro = fig.add_axes([0.25, ##x coordinate (ON FIGURE, NOT AXES)\n",
    "                         0.2, ##y coordinate (ON FIGURE, NOT AXES)\n",
    "                         0.15, ##image width\n",
    "                         0.35] ##image height\n",
    "                       )\n",
    "\n",
    "ax_nami = fig.add_axes([0.45, ##x coordinate (ON FIGURE, NOT AXES)\n",
    "                         0.12, ##y coordinate (ON FIGURE, NOT AXES)\n",
    "                         0.15, ##image width\n",
    "                         0.35] ##image height\n",
    "                       )\n",
    "\n",
    "\n",
    "ax_usopp = fig.add_axes([0.65, ##x coordinate (ON FIGURE, NOT AXES)\n",
    "                         0.35, ##y coordinate (ON FIGURE, NOT AXES)\n",
    "                         0.15, ##image width\n",
    "                         0.35] ##image height\n",
    "                       )\n",
    "\n",
    "ax_sanji = fig.add_axes([0.87, ##x coordinate (ON FIGURE, NOT AXES)\n",
    "                         0.11, ##y coordinate (ON FIGURE, NOT AXES)\n",
    "                         0.15, ##image width\n",
    "                         0.35] ##image height\n",
    "                       )\n",
    "\n",
    "##now use imshow() to add our images we prepped before\n",
    "ax_luf.imshow(luffyimg)\n",
    "ax_luf.axis('off')  \n",
    "\n",
    "ax_zoro.imshow(zoroimg)\n",
    "ax_zoro.axis('off')\n",
    "\n",
    "ax_nami.imshow(namiimg)\n",
    "ax_nami.axis('off')\n",
    "\n",
    "ax_usopp.imshow(usoppimg)\n",
    "ax_usopp.axis('off')\n",
    "\n",
    "ax_sanji.imshow(sanjiimg)\n",
    "ax_sanji.axis('off')\n",
    "\n",
    "\n",
    "##now add labels and titles to our plot\n",
    "ax.set_xlabel('Characters', fontsize = 14)\n",
    "ax.set_ylabel('Power', fontsize = 14)\n",
    "ax.set_title('Power Levels of Pirate Crew', fontsize = 18)\n",
    "           \n",
    "##show plot\n",
    "plt.show()\n"
   ]
  }
 ],
 "metadata": {
  "kernelspec": {
   "display_name": "dsi_participant",
   "language": "python",
   "name": "python3"
  },
  "language_info": {
   "codemirror_mode": {
    "name": "ipython",
    "version": 3
   },
   "file_extension": ".py",
   "mimetype": "text/x-python",
   "name": "python",
   "nbconvert_exporter": "python",
   "pygments_lexer": "ipython3",
   "version": "3.9.15"
  }
 },
 "nbformat": 4,
 "nbformat_minor": 2
}
